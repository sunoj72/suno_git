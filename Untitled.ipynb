{
 "cells": [
  {
   "cell_type": "code",
   "execution_count": 9,
   "metadata": {},
   "outputs": [
    {
     "name": "stdout",
     "output_type": "stream",
     "text": [
      "environ({'DALI_BUILD': '781234', 'LIBRARY_PATH': '/usr/local/cuda/lib64/stubs:', 'HOROVOD_NCCL_INCLUDE': '', 'KUBERNETES_PORT': 'tcp://10.96.0.1:443', 'KUBERNETES_SERVICE_PORT': '443', 'PYTHONIOENCODING': 'utf-8', 'HOROVOD_WITHOUT_PYTORCH': '', 'SAGEMAKER_OUTPUT': '', 'TF_ADJUST_SATURATION_FUSED': '1', 'NODE_VERSION': 'v10.16.3', 'HOSTNAME': 'pjt20200012-aer2021030001-dp-58994df454-hz4wh', 'LD_LIBRARY_PATH': '', 'HOME': '/home/ds_user1', 'MLDL_ACCOUNT_ID': 'sAdmin', 'GPU': '0', 'TENSORFLOW_VERSION': '1.14.0', 'CUDA_CACHE_DISABLE': '', 'PYVER': '3.6', 'MLDL_PORTAL_URL': 'http://10.80.65.60/', 'BAZELRC': '/root/.bazelrc', 'ENV': '/etc/shinit_v2', 'NVIDIA_BUILD_ID': '', 'HOROVOD_GPU_ALLREDUCE': '', 'HOROVOD_NCCL_LIB': '', 'OMPI_MCA_btl_vader_single_copy_mechanism': 'none', 'DLP_RUN_MODE': 'MODELING', 'CUDA_VERSION': '', 'NVM_DIR': '/usr/local/nvm', 'MLDL_LOGIN_ID': 'sAdmin@d.com', 'MLDL_IMG_ID': 'AEI0013', 'CUBLAS_VERSION': '', 'NSIGHT_SYSTEMS_VERSION': '2019.3.6', 'MLDL_DEV_ID': 'AER2021030001', 'AWS_DEFAULT_REGION': '', 'NVIDIA_REQUIRE_CUDA': '', 'TRT_VERSION': '5.1.5.0', 'MOFED_VERSION': '', 'NVIDIA_DRIVER_CAPABILITIES': '', 'CUDNN_INSTALL_PATH': '', 'TERM': 'xterm-color', 'KUBERNETES_PORT_443_TCP_ADDR': '10.96.0.1', 'CUDA_TOOLKIT_PATH': '', 'NVIDIA_TENSORFLOW_VERSION': '', 'HOROVOD_NCCL_LINK': '', 'PATH': '/usr/local/nvm/versions/node/v10.16.3/bin:/usr/local/nvm/versions/node/v12.6.0/bin:/usr/local/mpi/bin:/usr/local/nvidia/bin:/usr/local/cuda/bin:/usr/local/sbin:/usr/local/bin:/usr/sbin:/usr/bin:/sbin:/bin:/opt/tensorrt/bin:/project/bin', 'KUBERNETES_PORT_443_TCP_PORT': '443', 'CUDA_DRIVER_VERSION': '', 'JUPYTER_PORT': '8888', 'KUBERNETES_PORT_443_TCP_PROTO': 'tcp', '_CUDA_COMPAT_STATUS': '', 'MLDL_SERVICE_PORT_TFBOARD': '6006', 'MLDL_SERVICE_PORT_SSHSERVER': '22', 'MLDL_ANALYTICS_ENV_DIR': '/data01/projects/PJT20200012/AER2021030001', 'TENSORBOARD_PORT': '6006', 'AWS_ACCESS_KEY': '', 'CUDNN_VERSION': '', 'DALI_VERSION': '0.11.0', 'TF_ENABLE_WINOGRAD_NONFUSED': '1', 'OPENMPI_VERSION': '3.1.3', 'NCCL_INSTALL_PATH': '', 'NODE_PATH': '/usr/local/nvm/versions/node/v10.16.3/lib/node_modules', 'SHELL': '/bin/bash', 'AWS_SECRET_ACCESS_KEY': '', 'MLDL_PROJ_ID': 'PJT20200012', 'KUBERNETES_PORT_443_TCP': 'tcp://10.96.0.1:443', 'KUBERNETES_SERVICE_PORT_HTTPS': '443', 'MLDL_SERVICE_HOST': '10.107.190.22', 'BASH_ENV': '/etc/bash.bashrc', 'KUBERNETES_SERVICE_HOST': '10.96.0.1', 'LC_ALL': 'C.UTF-8', 'PWD': '/project', 'MLDL_SERVICE_PORT_JUPYTER': '8888', 'MLDL_USER_ID': '1000001', 'MLDL_NODEPORT_IP': '10.80.65.66', 'TF_ADJUST_HUE_FUSED': '1', '_CUDA_COMPAT_PATH': '', 'PYTHONPATH': '/workspace/bin/python:', 'NVIDIA_VISIBLE_DEVICES': 'none', 'NCCL_VERSION': '', 'path': '/usr/local/mpi/bin:usr/local/sbin:/usr/local/bin:/usr/sbin:/usr/bin:/sbin:/bin', 'TENSORBOARD_DEBUGGER_PORT': '6064', 'TF_AUTOTUNE_THRESHOLD': '2', 'MLDL_SERVICE_PORT': '8888', 'GIT_PYTHON_REFRESH': 'quiet', 'JPY_PARENT_PID': '152', 'CLICOLOR': '1', 'PAGER': 'cat', 'GIT_PAGER': 'cat', 'MPLBACKEND': 'module://ipykernel.pylab.backend_inline'})\n"
     ]
    }
   ],
   "source": [
    "import os\n",
    "print (os.environ)"
   ]
  },
  {
   "cell_type": "code",
   "execution_count": null,
   "metadata": {},
   "outputs": [],
   "source": []
  }
 ],
 "metadata": {
  "kernelspec": {
   "display_name": "Python 3",
   "language": "python",
   "name": "python3"
  },
  "language_info": {
   "codemirror_mode": {
    "name": "ipython",
    "version": 3
   },
   "file_extension": ".py",
   "mimetype": "text/x-python",
   "name": "python",
   "nbconvert_exporter": "python",
   "pygments_lexer": "ipython3",
   "version": "3.6.9"
  }
 },
 "nbformat": 4,
 "nbformat_minor": 4
}
